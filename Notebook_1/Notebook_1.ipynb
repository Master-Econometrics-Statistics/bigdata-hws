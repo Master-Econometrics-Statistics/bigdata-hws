{
 "cells": [
  {
   "cell_type": "markdown",
   "metadata": {
    "id": "UsbuB0aetRGj"
   },
   "source": [
    "# Notebook 1: Python Overview\n",
    "\n",
    "## Motivations\n",
    "\n",
    "Spark provides multiple *Application Programming Interfaces* (API), i.e. the interface allowing the user to interact with the application. The main APIs are [Scala](http://spark.apache.org/docs/latest/api/scala/index.html#org.apache.spark.package) and [Java](http://spark.apache.org/docs/latest/api/java/index.html) APIs, as Spark is implemented in Scala and runs on the Java Virtual Machine (JVM).\n",
    "Since the 0.7.0 version, a [Python API](http://spark.apache.org/docs/latest/api/python/index.html) is available, also known as PySpark. An [R API](http://spark.apache.org/docs/latest/api/R/index.html) has been released with 1.5.0 version. During this course, you will be using Spark 2.4.4.\n",
    "\n",
    "Throughout this course we will use the Python API for the following reasons:\n",
    "- R API is still too young and limited to be relied on. Besides, R can quickly become a living hell when using immature libraries.\n",
    "- Many of you are wanabee datascientists, and Python is a must-know language in data industry.\n",
    "- Scala and Java APIs would have been quite hard to learn given the length of the course and your actual programming skills.\n",
    "- Python is easy to learn, and even easier if you are already familiar with R.\n",
    "\n",
    "The goal of this session is to teach (or remind) you the syntax of basic operations, control structures and declarations in Python that will be useful as datascientist. Keep in mind that we do not have a lot of time, and that you should be able to create functions and classes and to manipulate them at the end of the lab. If you don't get that, the rest of the course will be hard to follow. Don't hesitate to ask for explanations and/or more exercises if you don't feel  confident enough at the end of the lab.\n",
    "\n",
    "**Note:** Python comes in two flavours, Python 2 and Python 3. Python 2 is now officially deprecated so there is no longer any support. However, a lot of companies have still a lot of code in Python 2 (Tensorflow only supports python 3 since 2019 and Google is well known for his extensive use of Python 2). In this course, we will use Python 3 rather than Python 2. Note that if you know Python 2, learning Python 3 will be lightning-fast.\n",
    "For those who are interested, you can quickly learn Python 3 syntax [over here](https://learnxinyminutes.com/docs/python3/) or find some [cheatsheets](http://ptgmedia.pearsoncmg.com/imprint_downloads/informit/promotions/python/python2python3.pdf) highlighting the differences between the two versions. Spark Python API is compatible with Python 3 since Spark 1.4.0.\n",
    "\n",
    "When you look at stackoverflow, please be aware that they might share snippets of code in another python version and that you might need to translate them. So no stupid copy-paste.\n",
    "\n",
    "*This introduction relies on [Learn Python in Y minutes](https://learnxinyminutes.com/docs/python/)*\n",
    "\n",
    "## Introduction\n",
    "\n",
    "Python is a high level, general-purpose interpreted language. Python is meant to be very concise and readable, it is thus a very pleasant language to work with. \n",
    "\n",
    "## 1. Primitive Datatypes and Operators\n",
    "Read section 1 of [Learn python in Y Minutes](https://learnxinyminutes.com/docs/python/) (if you already know Python, you can skip this step). Then, replace `???` in the following cells with your code to answer the questions. To get started, please run the following cell."
   ]
  },
  {
   "cell_type": "markdown",
   "metadata": {
    "id": "xaJAXdwatRHB"
   },
   "source": [
    "Compute 4 + 8"
   ]
  },
  {
   "cell_type": "code",
   "execution_count": null,
   "metadata": {
    "colab": {
     "base_uri": "https://localhost:8080/"
    },
    "id": "kxvDBoUltRHD",
    "outputId": "beca8f15-73ea-4c11-bdf9-1f8530714638"
   },
   "outputs": [
    {
     "data": {
      "text/plain": [
       "12"
      ]
     },
     "execution_count": 1,
     "metadata": {},
     "output_type": "execute_result"
    }
   ],
   "source": [
    "4+8"
   ]
  },
  {
   "cell_type": "markdown",
   "metadata": {
    "id": "uumGlRjUtRHQ"
   },
   "source": [
    "Compute 4 * 8"
   ]
  },
  {
   "cell_type": "code",
   "execution_count": null,
   "metadata": {
    "colab": {
     "base_uri": "https://localhost:8080/"
    },
    "id": "V88uqJeatRHS",
    "outputId": "b74486e6-2683-4001-cd38-7aff91a05590"
   },
   "outputs": [
    {
     "data": {
      "text/plain": [
       "32"
      ]
     },
     "execution_count": 2,
     "metadata": {},
     "output_type": "execute_result"
    }
   ],
   "source": [
    "4*8"
   ]
  },
  {
   "cell_type": "markdown",
   "metadata": {
    "id": "iFsOahCatRHd"
   },
   "source": [
    "Compute 4 / 8 (using the regular division operation, not integer division)"
   ]
  },
  {
   "cell_type": "code",
   "execution_count": null,
   "metadata": {
    "colab": {
     "base_uri": "https://localhost:8080/"
    },
    "id": "TolXN7L5tRHg",
    "outputId": "f8524341-44b7-4701-9d5d-e368a6e79ea3"
   },
   "outputs": [
    {
     "data": {
      "text/plain": [
       "0.5"
      ]
     },
     "execution_count": 3,
     "metadata": {},
     "output_type": "execute_result"
    }
   ],
   "source": [
    "4/8"
   ]
  },
  {
   "cell_type": "markdown",
   "metadata": {
    "id": "OvNAU9H6pfRJ"
   },
   "source": [
    "Compute $4^8$"
   ]
  },
  {
   "cell_type": "code",
   "execution_count": null,
   "metadata": {
    "colab": {
     "base_uri": "https://localhost:8080/"
    },
    "id": "wDD0hhCopfRJ",
    "outputId": "50037949-c2e5-4fde-d96f-72e70358fb00"
   },
   "outputs": [
    {
     "data": {
      "text/plain": [
       "65536"
      ]
     },
     "execution_count": 4,
     "metadata": {},
     "output_type": "execute_result"
    }
   ],
   "source": [
    "4**8"
   ]
  },
  {
   "cell_type": "markdown",
   "metadata": {
    "id": "BDOxUKpjtRHy"
   },
   "source": [
    "Check if the variable `foo` is None:"
   ]
  },
  {
   "cell_type": "code",
   "execution_count": null,
   "metadata": {
    "colab": {
     "base_uri": "https://localhost:8080/"
    },
    "id": "1KIB_tlwtRH0",
    "outputId": "3644c3b2-dda4-4a11-f3ec-d7b55ce33e02"
   },
   "outputs": [
    {
     "data": {
      "text/plain": [
       "True"
      ]
     },
     "execution_count": 5,
     "metadata": {},
     "output_type": "execute_result"
    }
   ],
   "source": [
    "foo = None\n",
    "foo == None"
   ]
  },
  {
   "cell_type": "markdown",
   "metadata": {
    "collapsed": true,
    "id": "t1lgdo-BtRH-"
   },
   "source": [
    "## 2. Variables and Collections\n",
    "Same as before, read the corresponding section, and answer the questions below.\n",
    "\n",
    "Now you're asked to `print` your results instead of just output them.\n",
    "\n",
    "Please always remember that there is a difference between the output of your code (which is the result of the last executed line) and the printed output."
   ]
  },
  {
   "cell_type": "code",
   "execution_count": null,
   "metadata": {
    "colab": {
     "base_uri": "https://localhost:8080/",
     "height": 53
    },
    "id": "LABwyEclpfRL",
    "outputId": "ec9f06ce-01e3-49e9-bc05-4d3144013fdc"
   },
   "outputs": [
    {
     "name": "stdout",
     "output_type": "stream",
     "text": [
      "This is a text\n"
     ]
    },
    {
     "data": {
      "application/vnd.google.colaboratory.intrinsic+json": {
       "type": "string"
      },
      "text/plain": [
       "'This is another text'"
      ]
     },
     "execution_count": 6,
     "metadata": {},
     "output_type": "execute_result"
    }
   ],
   "source": [
    "txt = \"This is a text\"\n",
    "print( txt )\n",
    "new_txt = \"This is another text\" # assignment doesn't return anything\n",
    "# Try uncommenting the following lines to check your understanding\n",
    "txt # return the value of txt\n",
    "new_txt # return the value of new_txt"
   ]
  },
  {
   "cell_type": "code",
   "execution_count": null,
   "metadata": {
    "colab": {
     "base_uri": "https://localhost:8080/"
    },
    "id": "4HRJAJZTtRH_",
    "outputId": "0c0256e7-f4f3-46a6-89d0-9b90bae7d1d5"
   },
   "outputs": [
    {
     "name": "stdout",
     "output_type": "stream",
     "text": [
      "1.2\n"
     ]
    }
   ],
   "source": [
    "# Declare a variable containing a float of your choice and print it\n",
    "# From now on, when you will be asked to print something, please use the print statement.\n",
    "a = 1.2\n",
    "print( a )"
   ]
  },
  {
   "cell_type": "code",
   "execution_count": null,
   "metadata": {
    "colab": {
     "base_uri": "https://localhost:8080/"
    },
    "id": "baIJHJcytRIF",
    "outputId": "34adcd43-28a4-49e4-cb35-9c2bc72d836b"
   },
   "outputs": [
    {
     "name": "stdout",
     "output_type": "stream",
     "text": [
      "['a', 'b', 'c', 'd', 'e', 1]\n"
     ]
    }
   ],
   "source": [
    "# Create a list containing strings and store it in a variable\n",
    "s = ['a', 'b', 'c', 'd']\n",
    "# Append a new string to this list\n",
    "s.append( 'e' )\n",
    "# Append an integer to this list and print it\n",
    "s.append( 1 )\n",
    "print( s )"
   ]
  },
  {
   "cell_type": "markdown",
   "metadata": {
    "id": "JvyO8q5AtRIM"
   },
   "source": [
    "Note that the modifications on list objects are performed inplace, i.e.\n",
    "\n",
    "    li = [1, 2, 3]\n",
    "    li.append(4)\n",
    "    li  # => [1, 2, 3, 4]"
   ]
  },
  {
   "cell_type": "code",
   "execution_count": null,
   "metadata": {
    "colab": {
     "base_uri": "https://localhost:8080/"
    },
    "id": "aY3ZCgaKtRIO",
    "outputId": "529ea977-4c45-422d-cff0-93048bb70a58"
   },
   "outputs": [
    {
     "name": "stdout",
     "output_type": "stream",
     "text": [
      "['a', 'b', 'c', 'd', 'e']\n"
     ]
    }
   ],
   "source": [
    "# Mixing types inside a list object can be a bad idea depending on the situation.\n",
    "# Remove the integer you just inserted in the list and print it\n",
    "s.remove( 1 )\n",
    "print( s )"
   ]
  },
  {
   "cell_type": "code",
   "execution_count": null,
   "metadata": {
    "colab": {
     "base_uri": "https://localhost:8080/"
    },
    "id": "ZZj4QAb7tRIU",
    "outputId": "0de6a58d-4a94-4d36-9004-c64a3e14d9e2"
   },
   "outputs": [
    {
     "name": "stdout",
     "output_type": "stream",
     "text": [
      "b\n"
     ]
    }
   ],
   "source": [
    "# Print the second element of the list\n",
    "print( s[1] )"
   ]
  },
  {
   "cell_type": "code",
   "execution_count": null,
   "metadata": {
    "colab": {
     "base_uri": "https://localhost:8080/"
    },
    "id": "Cp55234_pfRN",
    "outputId": "ff533b6a-a733-47f4-d74b-91fe81b85341"
   },
   "outputs": [
    {
     "name": "stdout",
     "output_type": "stream",
     "text": [
      "42.57\n",
      "42.56\n"
     ]
    }
   ],
   "source": [
    "x = 42.567\n",
    "# Print x with only two decimal (rounding)\n",
    "print( round( x,2 ) )\n",
    "# Print x with only two decimal (trunking)\n",
    "\n",
    "def truncate( number: float, digits: int ):\n",
    "    factor = 10 ** digits\n",
    "    return number * factor // 1 / factor\n",
    "\n",
    "print( truncate( x, 2 ) )"
   ]
  },
  {
   "cell_type": "markdown",
   "metadata": {
    "id": "_RKnEw4KtRIa"
   },
   "source": [
    "You can access list elements in reverse order, e.g.\n",
    "\n",
    "    li[-1]  # returns the last element of the list\n",
    "    li[-2]  # returns the second last element of the list\n",
    "    \n",
    "and so on..."
   ]
  },
  {
   "cell_type": "code",
   "execution_count": null,
   "metadata": {
    "colab": {
     "base_uri": "https://localhost:8080/"
    },
    "id": "X15yEiSotRId",
    "outputId": "31b9df4b-dbbe-4f80-fb19-28e3890965f6"
   },
   "outputs": [
    {
     "name": "stdout",
     "output_type": "stream",
     "text": [
      "['a', 'b', 'c', 'd', 'e', 'We', 'are', 'the', 'knights', 'who', 'say', 'Ni', '!']\n"
     ]
    }
   ],
   "source": [
    "# Extend your list with new_list and print it\n",
    "new_list = [\"We\", \"are\", \"the\", \"knights\", \"who\", \"say\", \"Ni\", \"!\"]\n",
    "s.extend( new_list )\n",
    "print( s )"
   ]
  },
  {
   "cell_type": "code",
   "execution_count": null,
   "metadata": {
    "colab": {
     "base_uri": "https://localhost:8080/"
    },
    "id": "i3k7EDdAtRIi",
    "outputId": "6fb7c1e0-1c1a-4372-9cb8-a6b130d646ee"
   },
   "outputs": [
    {
     "name": "stdout",
     "output_type": "stream",
     "text": [
      "['a', 'b', 'c', 'd', 'e', 'We', 'are', 'the', 'knights', 'who', 'say', 'Ekke Ekke Ekke Ekke Ptang Zoo Boing', '!']\n"
     ]
    }
   ],
   "source": [
    "# Replace \"Ni\" by \"Ekke Ekke Ekke Ekke Ptang Zoo Boing\" in the list and print it\n",
    "s[11] = 'Ekke Ekke Ekke Ekke Ptang Zoo Boing'\n",
    "print( s )"
   ]
  },
  {
   "cell_type": "code",
   "execution_count": null,
   "metadata": {
    "colab": {
     "base_uri": "https://localhost:8080/"
    },
    "id": "2HoKEtETtRIn",
    "outputId": "daea6823-50aa-474b-fcea-ade5412b9c63"
   },
   "outputs": [
    {
     "name": "stdout",
     "output_type": "stream",
     "text": [
      "13\n"
     ]
    }
   ],
   "source": [
    "# Compute the length of the list and print it\n",
    "y = len( s )\n",
    "print( y )"
   ]
  },
  {
   "cell_type": "code",
   "execution_count": null,
   "metadata": {
    "colab": {
     "base_uri": "https://localhost:8080/",
     "height": 35
    },
    "id": "2ZziFC0QtRIt",
    "outputId": "c2d1a498-bc20-4c9a-b789-0ddf0cda7640"
   },
   "outputs": [
    {
     "data": {
      "application/vnd.google.colaboratory.intrinsic+json": {
       "type": "string"
      },
      "text/plain": [
       "'\\nA list is mutable whereas a tuple is not mutable.\\n'"
      ]
     },
     "execution_count": 15,
     "metadata": {},
     "output_type": "execute_result"
    }
   ],
   "source": [
    "# What is the difference between lists and tuples?\n",
    "\"\"\"\n",
    "A list is mutable whereas a tuple is not mutable.\n",
    "\"\"\""
   ]
  },
  {
   "cell_type": "code",
   "execution_count": null,
   "metadata": {
    "id": "B2zRHa3atRIx"
   },
   "outputs": [],
   "source": [
    "# Create a dictionary containing the following mapping:\n",
    "# \"one\" : 1\n",
    "# \"two\" : 2\n",
    "# etc. until you reach \"five\" : 5\n",
    "baz = {\"one\" : 1, \"two\" : 2, \"three\" : 3, \"four\" : 4, \"five\" : 5}"
   ]
  },
  {
   "cell_type": "code",
   "execution_count": null,
   "metadata": {
    "colab": {
     "base_uri": "https://localhost:8080/"
    },
    "id": "c_Y6qcpUtRI3",
    "outputId": "e6ac8f08-b48d-4b89-a1c8-753335216c9a"
   },
   "outputs": [
    {
     "name": "stdout",
     "output_type": "stream",
     "text": [
      "True\n"
     ]
    }
   ],
   "source": [
    "# Check if the key \"four\" is contained in the dict\n",
    "# If four is contained in the dict, print the associated value\n",
    "if 'four' in baz:\n",
    "    print( baz['four'] )\n",
    "else:\n",
    "    print( 'four not in baz' )"
   ]
  },
  {
   "cell_type": "code",
   "execution_count": null,
   "metadata": {
    "colab": {
     "base_uri": "https://localhost:8080/"
    },
    "id": "ECwOx4TJtRI9",
    "outputId": "4cf283f5-fe98-4af5-b452-1ccb52b85f10"
   },
   "outputs": [
    {
     "name": "stdout",
     "output_type": "stream",
     "text": [
      "['e' 'f' 'g' 'h' 'i' 'j' 'l' 'n' 'o' 'p' 'q' 'r' 's' 'u' 'v']\n"
     ]
    }
   ],
   "source": [
    "import numpy as np\n",
    "gibberish = list(\"fqfgsrhrfeqluihjgrshioprqoqeionfvnorfiqeo\")\n",
    "# Find all the unique letters contained in gibberish. Your answer should fit in one line of code\n",
    "unique_letters = np.unique( gibberish )\n",
    "print( unique_letters )"
   ]
  },
  {
   "cell_type": "markdown",
   "metadata": {
    "id": "P7yBADultRJC"
   },
   "source": [
    "You should now be able to answer the following problem using dictionaries, lists and sets. Imagine you owe money to your friends because your forgot your credit card last time you went out for drinks. You want to remember how much you owe to each of them in order to refund them later. Which data structure would be useful to store this information? Use this data structure and fill it in with some debt data in the cell below:"
   ]
  },
  {
   "cell_type": "code",
   "execution_count": null,
   "metadata": {
    "id": "suyHVgJjtRJD"
   },
   "outputs": [],
   "source": [
    "debts = {'Adamou' : 5, 'Ryiad' : 12, 'Charlotte' : 8, 'Antoine' : 22}"
   ]
  },
  {
   "cell_type": "markdown",
   "metadata": {
    "id": "mQQSVcCHtRJI"
   },
   "source": [
    "Another party night with more people, yet you forgot your credit card again... You meet new friends who buy you drinks. Create another data structure as above with different data, i.e. include friends that were not here during the first party and new friends."
   ]
  },
  {
   "cell_type": "code",
   "execution_count": null,
   "metadata": {
    "id": "_cjYLMvEtRJK"
   },
   "outputs": [],
   "source": [
    "debts_2 = {'Esteban' : 0.5, 'Alan': 3, 'Santiago': 15}"
   ]
  },
  {
   "cell_type": "markdown",
   "metadata": {
    "id": "Li3vPIN7tRJP"
   },
   "source": [
    "Count the number of new friends you made that second night. Print the name of the friends who bought you drinks during the second party, but not during the first."
   ]
  },
  {
   "cell_type": "code",
   "execution_count": null,
   "metadata": {
    "colab": {
     "base_uri": "https://localhost:8080/"
    },
    "id": "1Rx2ix10tRJQ",
    "outputId": "8fd2d8f8-b17a-4f2e-823a-cff706b189ed"
   },
   "outputs": [
    {
     "name": "stdout",
     "output_type": "stream",
     "text": [
      "3\n",
      "dict_keys(['Esteban', 'Alan', 'Santiago'])\n"
     ]
    }
   ],
   "source": [
    "new_friends = debts_2.keys() #should fit in one line\n",
    "nb_new_friends =  print( len( new_friends ) ) # should fit in one line\n",
    "print( new_friends )"
   ]
  },
  {
   "cell_type": "markdown",
   "metadata": {
    "collapsed": true,
    "id": "fRqhthIttRJU"
   },
   "source": [
    "## 3. Control flow\n",
    "Same as before, read the corresponding section, and answer the questions below.\n",
    "You can skip the paragraph on exceptions for now."
   ]
  },
  {
   "cell_type": "code",
   "execution_count": null,
   "metadata": {
    "colab": {
     "base_uri": "https://localhost:8080/"
    },
    "id": "SZIDKiAntRJW",
    "outputId": "f7044239-4c2a-4b80-aa07-7bf4db500cfb"
   },
   "outputs": [
    {
     "name": "stdout",
     "output_type": "stream",
     "text": [
      "Duh...\n"
     ]
    }
   ],
   "source": [
    "# Code the following:\n",
    "# if you have made more than 5 friends that second night, \n",
    "# print \"Yay! I'm super popular!\", else, print \"Duh...\"\n",
    "\n",
    "def amipop( dict_friends ):\n",
    "    if len( dict_friends.keys() ) > 5:\n",
    "        print( \"Yay! I'm super popular!\" )\n",
    "    else:\n",
    "        print( \"Duh...\" )\n",
    "amipop( debts_2 )"
   ]
  },
  {
   "cell_type": "code",
   "execution_count": null,
   "metadata": {
    "colab": {
     "base_uri": "https://localhost:8080/"
    },
    "id": "x1KK30CWtRJa",
    "outputId": "94492642-432c-4f18-dee9-00bd3f12b5bf"
   },
   "outputs": [
    {
     "name": "stdout",
     "output_type": "stream",
     "text": [
      " Thanks Esteban!\n",
      " Thanks Alan!\n",
      " Thanks Santiago!\n"
     ]
    }
   ],
   "source": [
    "# Now, thank each new friend iteratively, i.e.\n",
    "# print \"Thanks <name of the friend>!\" using loops and string formatting (cf. section 1)\n",
    "def thanks( dict_friends ):\n",
    "    for name in dict_friends.keys():\n",
    "        print( f' Thanks {name}!' )\n",
    "thanks( debts_2 )"
   ]
  },
  {
   "cell_type": "code",
   "execution_count": null,
   "metadata": {
    "colab": {
     "base_uri": "https://localhost:8080/"
    },
    "id": "iNOfoXTJtRJd",
    "outputId": "be9fbd0d-9414-4cf9-c192-3fb90408edce"
   },
   "outputs": [
    {
     "name": "stdout",
     "output_type": "stream",
     "text": [
      "27\n"
     ]
    }
   ],
   "source": [
    "# Sum all the number from 0 to 15 (included) using what we've seen so far (i.e. without the function sum() )\n",
    "for i in range( 15 ) :\n",
    "    i = i + ( i-1 )\n",
    "print( i )"
   ]
  },
  {
   "cell_type": "code",
   "execution_count": null,
   "metadata": {
    "colab": {
     "base_uri": "https://localhost:8080/"
    },
    "id": "hNXGkNgitRJh",
    "outputId": "ef7af348-82a8-40ae-bc00-a7396cde8440"
   },
   "outputs": [
    {
     "name": "stdout",
     "output_type": "stream",
     "text": [
      "0\n",
      "1\n",
      "2\n",
      "2\n"
     ]
    }
   ],
   "source": [
    "# Note: you can break a loop with the break statement\n",
    "for i in range( 136 ):\n",
    "    print ( i )\n",
    "    if i >= 2:\n",
    "        break\n",
    "    else:\n",
    "        i = i + ( i-1 )\n",
    "print( i )"
   ]
  },
  {
   "cell_type": "code",
   "execution_count": null,
   "metadata": {
    "colab": {
     "base_uri": "https://localhost:8080/"
    },
    "id": "1nZB8pMltRJm",
    "outputId": "0ee28775-e64b-47cd-da5e-2d891b1861f6"
   },
   "outputs": [
    {
     "name": "stdout",
     "output_type": "stream",
     "text": [
      "a 0\n",
      "b 1\n",
      "c 2\n"
     ]
    }
   ],
   "source": [
    "# enumerate function can be very useful when dealing with iterators:\n",
    "for i, value in enumerate( [\"a\", \"b\", \"c\"] ):\n",
    "    print( value, i )"
   ]
  },
  {
   "cell_type": "markdown",
   "metadata": {
    "id": "rSpPZ8q0tRJq"
   },
   "source": [
    "## 4. Functions\n",
    "Things are becoming more interesting. Read section 4. It's ok if you don't get the args/kwargs part. Be sure to understand basic function declaration and anonymous function declaration. Higher order functions, maps, and filters will be covered during the next lab.\n",
    "\n",
    "Write a Python function that checks whether a passed string is palindrome or not. Note: a palindrome is a word, phrase, or sequence that reads the same backward and forward, e.g. \"madam\" or \"nurses run\". Hint: strings are lists of characters e.g.\n",
    "\n",
    "    a = \"abcdef\"\n",
    "    a[2] => c\n",
    "    \n",
    "If needed, here are [some tips about string manipulation](http://www.pythonforbeginners.com/basics/string-manipulation-in-python)."
   ]
  },
  {
   "cell_type": "code",
   "execution_count": null,
   "metadata": {
    "colab": {
     "base_uri": "https://localhost:8080/"
    },
    "id": "lSa99mbptRJr",
    "outputId": "43890936-121e-43d5-f13b-b7d2964fa6e7"
   },
   "outputs": [
    {
     "name": "stdout",
     "output_type": "stream",
     "text": [
      "True\n",
      "True\n",
      "False\n"
     ]
    }
   ],
   "source": [
    "def isPalindrome( string_input ):\n",
    "    string_input = string_input.lower().replace( ' ', '' )\n",
    "    return string_input == string_input[::-1]\n",
    "\n",
    "print( isPalindrome( 'tenet' ) )        # Simple palindrome\n",
    "print( isPalindrome( 'nurses run' ) ) # Palindrome containing a space\n",
    "print( isPalindrome( 'not a palindrome' ) ) # Not a palindrome"
   ]
  },
  {
   "cell_type": "markdown",
   "metadata": {
    "id": "zB9qsMDJtRJv"
   },
   "source": [
    "Write a Python function to check whether a string is pangram or not. Note: pangrams are words or sentences containing every letter of the alphabet at least once. For example: \"The quick brown fox jumps over the lazy dog\".\n",
    "\n",
    "[Hint](https://docs.python.org/2/library/stdtypes.html#set-types-set-frozenset)"
   ]
  },
  {
   "cell_type": "code",
   "execution_count": null,
   "metadata": {
    "colab": {
     "base_uri": "https://localhost:8080/"
    },
    "id": "klw8o3FDtRJx",
    "outputId": "7481bdd9-e60d-49d3-a3b1-f743238908ef"
   },
   "outputs": [
    {
     "name": "stdout",
     "output_type": "stream",
     "text": [
      "True\n",
      "False\n"
     ]
    }
   ],
   "source": [
    "import string\n",
    "\n",
    "# In this function, \"alphabet\" argument has a default value: string.ascii_lowercase\n",
    "# string.ascii_lowercase contains all the letters in lowercase.\n",
    "import string\n",
    "\n",
    "def ispangram( string_input, alphabet = string.ascii_lowercase ):  \n",
    "    for char in alphabet:\n",
    "        if char not in str.lower( string_input ):\n",
    "            return False\n",
    "    return True\n",
    "   \n",
    "print( ispangram( 'The quick brown fox jumps over the lazy dog' ) )\n",
    "print( ispangram( 'Definitely not a pangram' ) )"
   ]
  },
  {
   "cell_type": "markdown",
   "metadata": {
    "collapsed": true,
    "id": "hIXo-hJ_tRJ0"
   },
   "source": [
    "### Python lambda expressions\n",
    "\n",
    "When evaluated, lambda expressions return an anonymous function, i.e. a function that is not bound to any variable (hence the \"anonymous\"). However, it is possible to assign the function to a variable. Lambda expressions are particularly useful when you need to pass a simple function into another function. To create lambda functions, we use the following syntax\n",
    "\n",
    "    lambda argument1, argument2, argument3, etc. : body_of_the_function\n",
    "\n",
    "For example, a function which takes a number and returns its square would be\n",
    "\n",
    "    lambda x: x**2\n",
    "    \n",
    "A function that takes two numbers and returns their sum:\n",
    "\n",
    "    lambda x, y: x + y\n",
    "    \n",
    "`lambda` generates a function and returns it, while `def` generates a function and assigns it to a name.  The function returned by `lambda` also automatically returns the value of its expression statement, which reduces the amount of code that needs to be written.\n",
    "\n",
    "Here are some additional references that explain lambdas: [Lambda Functions](http://www.secnetix.de/olli/Python/lambda_functions.hawk), [Lambda Tutorial](https://pythonconquerstheuniverse.wordpress.com/2011/08/29/lambda_tutorial/), and [Python Functions](http://www.bogotobogo.com/python/python_functions_lambda.php).\n",
    "\n",
    "Here is an example:"
   ]
  },
  {
   "cell_type": "code",
   "execution_count": null,
   "metadata": {
    "colab": {
     "base_uri": "https://localhost:8080/"
    },
    "id": "Qag42QL7tRJ1",
    "outputId": "f8b6a65e-bd2b-409a-b47b-bdcedfb9cdfb"
   },
   "outputs": [
    {
     "name": "stdout",
     "output_type": "stream",
     "text": [
      "<class 'function'>\n",
      "<function add_s at 0x7f5253adbc20>\n",
      "balloons\n"
     ]
    }
   ],
   "source": [
    "# Function declaration using def\n",
    "def add_s( x ):\n",
    "    return x + 's'\n",
    "\n",
    "print ( type( add_s ) )\n",
    "print ( add_s )\n",
    "print ( add_s( 'balloon' ) )"
   ]
  },
  {
   "cell_type": "code",
   "execution_count": null,
   "metadata": {
    "colab": {
     "base_uri": "https://localhost:8080/"
    },
    "id": "6MVqBJDXtRJ4",
    "outputId": "e5d11516-2c55-4f0c-b167-c3dbbc84bff3"
   },
   "outputs": [
    {
     "name": "stdout",
     "output_type": "stream",
     "text": [
      "<class 'function'>\n",
      "<function <lambda> at 0x7f5253ae2440>\n",
      "balloons\n"
     ]
    }
   ],
   "source": [
    "# Same function declared as a lambda\n",
    "add_s_lambda = lambda x: x + 's'\n",
    "print ( type( add_s_lambda ) )\n",
    "print ( add_s_lambda )  # Note that the function shows its name as <lambda>\n",
    "print ( add_s_lambda( 'balloon' ) )"
   ]
  },
  {
   "cell_type": "code",
   "execution_count": null,
   "metadata": {
    "colab": {
     "base_uri": "https://localhost:8080/"
    },
    "id": "mOp4Ju79tRJ8",
    "outputId": "d3b15fa3-c357-4148-fe50-7af3ff1db6a6"
   },
   "outputs": [
    {
     "name": "stdout",
     "output_type": "stream",
     "text": [
      "10\n",
      "True\n"
     ]
    }
   ],
   "source": [
    "# Code a function using a lambda expression which takes\n",
    "# a number and returns this number multiplied by two.\n",
    "multiply_by_two = lambda x : x*2\n",
    "print ( multiply_by_two( 5 ) )\n",
    "\n",
    "print( multiply_by_two( 10 ) == 20 )"
   ]
  },
  {
   "cell_type": "markdown",
   "metadata": {
    "id": "nJlViCP6tRKI"
   },
   "source": [
    "Observe the behavior of the following code:"
   ]
  },
  {
   "cell_type": "code",
   "execution_count": null,
   "metadata": {
    "colab": {
     "base_uri": "https://localhost:8080/"
    },
    "id": "BaBVXHRftRKJ",
    "outputId": "a618a048-5cdd-45d4-843d-2cf80b668c88"
   },
   "outputs": [
    {
     "name": "stdout",
     "output_type": "stream",
     "text": [
      "3\n",
      "-1\n"
     ]
    }
   ],
   "source": [
    "def add( x, y ):\n",
    "    z = x + y\n",
    "    return z\n",
    "\n",
    "def sub( x, y ):\n",
    "    z = x - y\n",
    "    return z\n",
    "\n",
    "functions = [add, sub]\n",
    "print( functions[0]( 1, 2 ) )\n",
    "print( functions[1]( 3, 4 ) )"
   ]
  },
  {
   "cell_type": "markdown",
   "metadata": {
    "id": "3ULfcjzvtRKM"
   },
   "source": [
    "Code the same functionality, using lambda expressions:"
   ]
  },
  {
   "cell_type": "code",
   "execution_count": null,
   "metadata": {
    "colab": {
     "base_uri": "https://localhost:8080/"
    },
    "id": "kyrrjXjptRKN",
    "outputId": "e9eb35cc-f9a1-47a0-f895-5dc5edc76155"
   },
   "outputs": [
    {
     "name": "stdout",
     "output_type": "stream",
     "text": [
      "True\n",
      "True\n"
     ]
    }
   ],
   "source": [
    "lambda_functions = [lambda x, y : x + y ,  lambda x, y : x - y]\n",
    "\n",
    "print( lambda_functions[0]( 1, 2 ) == 3 )\n",
    "print( lambda_functions[1]( 3, 4 ) == -1 )"
   ]
  },
  {
   "cell_type": "markdown",
   "metadata": {
    "id": "ED1XVrZxtRKR"
   },
   "source": [
    "Lambda expressions can be used to generate functions that take in zero or more parameters. The syntax for `lambda` allows for multiple ways to define the same function.  For example, we might want to create a function that takes in a single parameter, where the parameter is a tuple consisting of two values, and the function adds the two values.  The syntax could be either \n",
    "\n",
    "    lambda x: x[0] + x[1]\n",
    "    \n",
    "or \n",
    "    \n",
    "    lambda (x, y): x + y\n",
    "\n",
    "If we called either function on the tuple `(1, 2)` it would return `3`."
   ]
  },
  {
   "cell_type": "code",
   "execution_count": null,
   "metadata": {
    "colab": {
     "base_uri": "https://localhost:8080/"
    },
    "id": "8tzddedUpfRY",
    "outputId": "3ec54d36-039f-4de1-e0a5-10d6ecbbf0ab"
   },
   "outputs": [
    {
     "name": "stdout",
     "output_type": "stream",
     "text": [
      "add_two_1((1,2), (3,4)) = (4, 6)\n",
      "add_two_2(1,2,3,4) = (4, 6)\n"
     ]
    }
   ],
   "source": [
    "# Example:\n",
    "add_two_1 = lambda x, y: ( x[0] + y[0], x[1] + y[1] )\n",
    "add_two_2 = lambda x0, x1, y0, y1: ( x0 + y0, x1 + y1 )\n",
    "print( 'add_two_1((1,2), (3,4)) = {0}'.format( add_two_1( ( 1,2 ), ( 3,4 ) ) ) )\n",
    "print( 'add_two_2(1,2,3,4) = {0}'.format( add_two_2( 1,2,3,4 ) ) )"
   ]
  },
  {
   "cell_type": "code",
   "execution_count": null,
   "metadata": {
    "id": "awYyJnB8pfRY"
   },
   "outputs": [],
   "source": [
    "def invert( a,b ):\n",
    "    tmp = a\n",
    "    a = b\n",
    "    b = tmp\n",
    "    return ( a,b )"
   ]
  },
  {
   "cell_type": "code",
   "execution_count": null,
   "metadata": {
    "colab": {
     "base_uri": "https://localhost:8080/"
    },
    "id": "3W_cRy7JpfRY",
    "outputId": "f5e06ae3-78cf-4506-91e5-4ca90ea26b79"
   },
   "outputs": [
    {
     "data": {
      "text/plain": [
       "(2, 1)"
      ]
     },
     "execution_count": 37,
     "metadata": {},
     "output_type": "execute_result"
    }
   ],
   "source": [
    "invert( 1,2 )"
   ]
  },
  {
   "cell_type": "code",
   "execution_count": null,
   "metadata": {
    "colab": {
     "base_uri": "https://localhost:8080/"
    },
    "id": "GDn7Z7dstRKV",
    "outputId": "b75b21fb-a9fa-40bc-ee02-aa8215ba1140"
   },
   "outputs": [
    {
     "name": "stdout",
     "output_type": "stream",
     "text": [
      "True\n",
      "True\n"
     ]
    }
   ],
   "source": [
    "# Use both syntaxes to create a function that takes in a tuple of three values and reverses their order\n",
    "# E.g. (1, 2, 3) => (3, 2, 1)\n",
    "\n",
    "# pseudo-code: \n",
    "# input a, b, c\n",
    "#      tmp = a\n",
    "#      a = b\n",
    "#      b = tmp\n",
    "# for a tuple of three values we only inverse the values of index 1 and 3\n",
    "reverse1 = lambda x: ( x[2], x[1], x[0] )\n",
    "reverse2 = lambda x0, x1, x2: ( x2, x1, x0 )\n",
    "\n",
    "print( reverse1( ( 1, 2, 3 ) ) == ( 3, 2, 1 ) )\n",
    "print( reverse2( 1, 2, 3 ) == ( 3, 2, 1 ) )"
   ]
  },
  {
   "cell_type": "markdown",
   "metadata": {
    "id": "GuRsJH2btRKY"
   },
   "source": [
    "Lambda expressions allow you to reduce the size of your code, but they are limited to simple logic. The following Python keywords refer to statements that cannot be used in a lambda expression: `assert`, `pass`, `del`, `print`, `return`, `yield`, `raise`, `break`, `continue`, `import`, `global`, and `exec`.  Assignment statements (`=`) and augmented assignment statements (e.g. `+=`) cannot be used either. If more complex logic is necessary, use `def` in place of `lambda`."
   ]
  },
  {
   "cell_type": "markdown",
   "metadata": {
    "id": "C8oYTUJDtRKZ"
   },
   "source": [
    "## 5. Classes\n",
    "Classes allow you to create objects. Object Oriented Programming (OOP) can be a very powerful paradigm. If done well, OOP  allows you to improve the modularity and reusability of your code, but that's the subject of an entire other course. \n",
    "Here is a *very* short introduction to it.\n",
    "\n",
    "By convention, class names are written in camel case, e.g. `MyBeautifulClass`, while variable and function names are written in snake case, e.g. `my_variable`, `my_very_complex_function`\n",
    "\n",
    "Classes contain methods (i.e. functions owned by the class) and attributes (i.e. variables owned by the class). \n",
    "When you define a class, first thing to do is to define a specific method, the constructor. In Python, the constructor is called `__init__`. This method is used to create the instances of an object. Example:\n",
    "\n",
    "    class MyClass:\n",
    "    \n",
    "        def __init__(self, first_attribute, second_attribute):\n",
    "            self.first_attribute = first_attribute\n",
    "            self.second_attribute = second_attribute\n",
    "            \n",
    "This class has two attributes, and one (hidden) method, the constructor. To create an instance of this class, one simply does:\n",
    "\n",
    "    instance_example = MyClass(1, \"foo\")\n",
    "    \n",
    "Then, the attributes can easily be accessed to:\n",
    "\n",
    "    instance_example.first_attribute  # => 1\n",
    "    instance_example.first_attribute  # => \"foo\""
   ]
  },
  {
   "cell_type": "code",
   "execution_count": null,
   "metadata": {
    "colab": {
     "base_uri": "https://localhost:8080/"
    },
    "id": "keBR9vgQtRKc",
    "outputId": "68080e87-64df-4f74-e1ae-a6dd163f5224"
   },
   "outputs": [
    {
     "name": "stdout",
     "output_type": "stream",
     "text": [
      "1\n",
      "3\n"
     ]
    }
   ],
   "source": [
    "# Run this example\n",
    "class MyClass:\n",
    "    \n",
    "    def __init__( self, first_attribute, second_attribute ):\n",
    "        self.first_attribute = first_attribute\n",
    "        self.second_attribute = second_attribute\n",
    "            \n",
    "instance_example = MyClass( 1, \"foo\" ) \n",
    "print( instance_example.first_attribute )\n",
    "instance_example.__init__( 3, 4 )  # In real life, it is rare to reinit an object.\n",
    "print( instance_example.first_attribute )"
   ]
  },
  {
   "cell_type": "markdown",
   "metadata": {
    "id": "8AO18Rz7tRKf"
   },
   "source": [
    "`self` denotes the object itself. When you declare a method, you have to pass `self` as the first argument of the method:\n",
    "\n",
    "class MyClass:\n",
    "    \n",
    "    def __init__(self, first_attribute, second_attribute):\n",
    "        self.first_attribute = first_attribute\n",
    "        self.second_attribute = second_attribute\n",
    "   \n",
    "    def method_baz(self):\n",
    "        print \"Hello! I'm a method! I have two attributes, initialized with values %s, %s\"%(self.first_attribute, self.second_attribute)\n",
    "        \n",
    "indeed, when we call\n",
    "    \n",
    "    instance_example = MyClass(1, \"foo\") \n",
    "    instance_example.method_baz()\n",
    "    \n",
    "the `self` object is implicitely passed to `method_baz`as an argument. Think of the method call as the following function call\n",
    "\n",
    "    method_baz(instance_example)"
   ]
  },
  {
   "cell_type": "code",
   "execution_count": null,
   "metadata": {
    "colab": {
     "base_uri": "https://localhost:8080/"
    },
    "id": "oZde0pPntRKg",
    "outputId": "5733d0a5-a483-4e7e-a5cb-f4614df8c57d"
   },
   "outputs": [
    {
     "name": "stdout",
     "output_type": "stream",
     "text": [
      "Hello! I'm a method! My class has two attributes, of value 1, foo\n"
     ]
    }
   ],
   "source": [
    "# Run this example\n",
    "class MyClass:\n",
    "    \n",
    "    def __init__( self, first_attribute, second_attribute ):\n",
    "        self.first_attribute = first_attribute\n",
    "        self.second_attribute = second_attribute\n",
    "    \n",
    "    def class_method( self ):\n",
    "        print( \"Hello! I'm a method! My class has two attributes, of value {0}, {1}\".format( self.first_attribute, self.second_attribute ) )\n",
    "            \n",
    "instance_example = MyClass( 1, \"foo\" ) \n",
    "# Call to a class method\n",
    "instance_example.class_method()"
   ]
  },
  {
   "cell_type": "markdown",
   "metadata": {
    "id": "fLUmPnKntRKo"
   },
   "source": [
    "Now, the tricky part. You can declare **static** methods, i.e. methods that don't need to access the data contained in `self` to work properly. Such methods do not require the `self` argument as they do not use any instance data. They are implemented in the following way:"
   ]
  },
  {
   "cell_type": "code",
   "execution_count": 1,
   "metadata": {
    "colab": {
     "base_uri": "https://localhost:8080/"
    },
    "id": "ZfkEAQbGtRKp",
    "outputId": "28969244-c642-4d4b-f2e8-980353af894e"
   },
   "outputs": [
    {
     "name": "stdout",
     "output_type": "stream",
     "text": [
      "Hello! I'm a method! My class has two attributes, of value 1, foo\n",
      "I'm a static method!\n"
     ]
    }
   ],
   "source": [
    "# Run this example\n",
    "class MyClass:\n",
    "    \n",
    "    def __init__( self, first_attribute, second_attribute ):\n",
    "        self.first_attribute = first_attribute\n",
    "        self.second_attribute = second_attribute\n",
    "    \n",
    "    def class_method( self ):\n",
    "        print( \"Hello! I'm a method! My class has two attributes, of value {0}, {1}\".format( self.first_attribute, self.second_attribute ) )\n",
    "         \n",
    "    @staticmethod\n",
    "    def static_method():\n",
    "        print( \"I'm a static method!\" )\n",
    "            \n",
    "instance_example = MyClass( 1, \"foo\" ) \n",
    "# Call to a class method\n",
    "instance_example.class_method()\n",
    "# Call to a static method\n",
    "instance_example.static_method()"
   ]
  },
  {
   "cell_type": "code",
   "execution_count": 2,
   "metadata": {
    "colab": {
     "base_uri": "https://localhost:8080/"
    },
    "id": "kjsCfutptRKu",
    "outputId": "6527803b-935a-4fc4-dee6-98be20059757"
   },
   "outputs": [
    {
     "name": "stdout",
     "output_type": "stream",
     "text": [
      "I'm a static method!\n"
     ]
    }
   ],
   "source": [
    "# Call to a static method without class instanciation\n",
    "MyClass.static_method()"
   ]
  },
  {
   "cell_type": "code",
   "execution_count": 6,
   "metadata": {
    "colab": {
     "base_uri": "https://localhost:8080/",
     "height": 218
    },
    "id": "WjIceCletRKy",
    "outputId": "820175cf-3287-4c79-8d51-89eead301dd9"
   },
   "outputs": [
    {
     "ename": "TypeError",
     "evalue": "class_method() missing 1 required positional argument: 'self'",
     "output_type": "error",
     "traceback": [
      "\u001b[1;31m---------------------------------------------------------------------------\u001b[0m",
      "\u001b[1;31mTypeError\u001b[0m                                 Traceback (most recent call last)",
      "\u001b[1;32m<ipython-input-6-17a07f4af43e>\u001b[0m in \u001b[0;36m<module>\u001b[1;34m\u001b[0m\n\u001b[0;32m      1\u001b[0m \u001b[1;31m# Call to a class method without class instanciation: raises an error\u001b[0m\u001b[1;33m\u001b[0m\u001b[1;33m\u001b[0m\u001b[1;33m\u001b[0m\u001b[0m\n\u001b[1;32m----> 2\u001b[1;33m \u001b[0mMyClass\u001b[0m\u001b[1;33m.\u001b[0m\u001b[0mclass_method\u001b[0m\u001b[1;33m(\u001b[0m\u001b[1;33m)\u001b[0m\u001b[1;33m\u001b[0m\u001b[1;33m\u001b[0m\u001b[0m\n\u001b[0m\u001b[0;32m      3\u001b[0m \u001b[1;31m# => TypeError: unbound method class_method() must be called with MyClass instance as first argument (got nothing instead)\u001b[0m\u001b[1;33m\u001b[0m\u001b[1;33m\u001b[0m\u001b[1;33m\u001b[0m\u001b[0m\n",
      "\u001b[1;31mTypeError\u001b[0m: class_method() missing 1 required positional argument: 'self'"
     ]
    }
   ],
   "source": [
    "# Call to a class method without class instanciation: raises an error\n",
    "MyClass.class_method()\n",
    "# => TypeError: unbound method class_method() must be called with MyClass instance as first argument (got nothing instead)"
   ]
  },
  {
   "cell_type": "markdown",
   "metadata": {
    "id": "WrGtoiEptRK1"
   },
   "source": [
    "You can set attributes without passing them to the constructor:"
   ]
  },
  {
   "cell_type": "code",
   "execution_count": null,
   "metadata": {
    "colab": {
     "base_uri": "https://localhost:8080/"
    },
    "id": "1EtLi3gRtRK2",
    "outputId": "7a2c0ae5-e2bb-4f83-ddf9-66ede14041a5"
   },
   "outputs": [
    {
     "name": "stdout",
     "output_type": "stream",
     "text": [
      "42\n"
     ]
    }
   ],
   "source": [
    "# Run this example\n",
    "class MyClass:\n",
    "    \n",
    "    default_attribute = 42\n",
    "    \n",
    "    def __init__( self, first_attribute, second_attribute ):\n",
    "        self.first_attribute = first_attribute\n",
    "        self.second_attribute = second_attribute\n",
    "    \n",
    "    def method_baz( self ):\n",
    "        print( \"Hello! I'm a method! I have two attributes, initialized with values %s, %s\"%( self.first_attribute, self.second_attribute ) )\n",
    "        \n",
    "    @staticmethod\n",
    "    def static_method():\n",
    "        print( \"I'm a static method!\" )\n",
    "            \n",
    "instance_example = MyClass( 1, \"foo\" ) \n",
    "print( instance_example.default_attribute )"
   ]
  },
  {
   "cell_type": "code",
   "execution_count": null,
   "metadata": {
    "colab": {
     "base_uri": "https://localhost:8080/"
    },
    "id": "9f2LfrfEtRK6",
    "outputId": "a56f7f49-9c88-4c33-e2e0-946083436c71"
   },
   "outputs": [
    {
     "name": "stdout",
     "output_type": "stream",
     "text": [
      "The area of your rectangle is 120\n",
      "False\n",
      "The perimeter of your rectangle is 44\n",
      "False\n",
      "True\n",
      "Do you like rectangles?\n",
      "False\n"
     ]
    }
   ],
   "source": [
    "# Write a Python class named Rectangle which is \n",
    "# constructed by a length and width \n",
    "# and has two class methods\n",
    "# - \"rectange_area\", which computes the area of a rectangle.\n",
    "# - \"rectangle_perimeter\", which computes the perimeter of a rectangle.\n",
    "#\n",
    "# The Rectangle class should have an attribute n_edges equal to 4\n",
    "# which should not be initialized by the __init__ constructor.\n",
    "#\n",
    "# Declare a static method \"talk\" that returns \"Do you like rectangles?\" when called\n",
    "\n",
    "class Rectangle: \n",
    "    \n",
    "    n_edges = 4\n",
    "    \n",
    "    def __init__( self, length, width ):\n",
    "        self.length = length\n",
    "        self.width = width\n",
    "    \n",
    "    def rectangle_area( self ):\n",
    "        \n",
    "        print( \"The area of your rectangle is %s\"%( self.length * self.width ) )\n",
    "        \n",
    "    def rectangle_perimeter( self ):\n",
    "        \n",
    "        print( \"The perimeter of your rectangle is %s\"%( 2*( self.length + self.width ) ) )\n",
    "        \n",
    "    @staticmethod\n",
    "    def talk():\n",
    "        print( \"Do you like rectangles?\" )\n",
    "            \n",
    "\n",
    "new_rectangle = Rectangle( 12, 10 )\n",
    "print( new_rectangle.rectangle_area() == 120 ) # rectangle_area method\n",
    "print( new_rectangle.rectangle_perimeter() == 44 ) # rectangle_area method\n",
    "print( Rectangle.n_edges == 4 ) # constant attibute\n",
    "print( Rectangle.talk() == \"Do you like rectangles?\" ) # Rectangle talk static method"
   ]
  },
  {
   "cell_type": "markdown",
   "metadata": {
    "id": "WwZuJucnpfRc"
   },
   "source": [
    "In machine learning, when you're manipulating large images, you often need to break the down into smaller, more manageable images.\n",
    "- Modify the previous rectangle class to include a list of patches.\n",
    "- Write a Python class named Patch which is a square of size 1x1. Each patch should be identified by his coordinates.\n",
    "- Use the [\\_\\_iter\\_\\_](https://www.datacamp.com/community/tutorials/python-iterator-tutorial) function to create a get_next_patch() in the Rectangle class."
   ]
  },
  {
   "cell_type": "code",
   "execution_count": null,
   "metadata": {
    "id": "kBb5tZdBpfRc"
   },
   "outputs": [],
   "source": [
    "class Rectangle:\n",
    "    \n",
    "    def __init__( self, length, width, **kwargs ):\n",
    "    \n",
    "        self.length = length\n",
    "        self.width = width \n",
    "        \n",
    "    class Patch :\n",
    "        \n",
    "        def patch( self, attr ):\n",
    "            \n",
    "            setattr( new_rectangle, \"patches\" )\n",
    "            print( new_rectangle.patch )\n",
    "    \n",
    "        def __iter__():\n",
    "            \"\"\"\n",
    "            Partition a rectangle into multiple patches of approximately equal size.\n",
    "            The patch size is based on the desired number of rows and columns.\n",
    "            Returns a list of image patches, in row-major order.\n",
    "            \"\"\"\n",
    "\n",
    "            patch_list = []\n",
    "            width, length = self.width, self.length\n",
    "            w, l = width // num_columns, length // num_rows\n",
    "    \n",
    "            for y in range( 0, length, l ): \n",
    "                y_end = min( y + l, width )\n",
    "                for x in range( 0, width, w ):\n",
    "                    x_end = min( x + w, height )\n",
    "                    patch = img[y:y_end, x:x_end]\n",
    "                    patch_list.append( patch )\n",
    "\n",
    "            return patch_list\n",
    "\n",
    "\n",
    "rectangle = Rectangle( 12, 10 )\n",
    "\n",
    "#for patch in rectangle :\n",
    "    #print(patch)\n",
    "# should print all the patches in your rectangle"
   ]
  },
  {
   "cell_type": "markdown",
   "metadata": {
    "id": "NrKi6qspwp3F"
   },
   "source": [
    "Use the same approach to create two classes :\n",
    "- Sentence which is a list of words\n",
    "- Word which encapsulates a string with a specific order within the sentence\n",
    "Implement both [\\_\\_str\\_\\_](https://docs.python.org/3/reference/datamodel.html?highlight=__str__#object.__str__) and [\\_\\_repr\\_\\_](https://docs.python.org/3/reference/datamodel.html?highlight=__str__#object.__repr__) for both classes. `__str__` should be readable when `__repr__` should offer you information to helps you debug.\n",
    "In Natural Language Processing you'll use a lot of n-grams (which is the set of *n* sequential words). So you should implement a get_next_bigrams() method in the Sentence class. For instance give the sentence \"My name is Brian\", it should return an element of the list of bigrams ```[\"My name\", \"name is\", \"is Brian\"]```"
   ]
  },
  {
   "cell_type": "code",
   "execution_count": 2,
   "metadata": {
    "id": "VGi1FHB8pfRd"
   },
   "outputs": [],
   "source": [
    "class Sentence :\n",
    "\n",
    "    def __init__(self, text):\n",
    "      self.text = text\n",
    "\n",
    "    def __str__(self):\n",
    "      self.text = str(self.text)\n",
    "\n",
    "    def get_next_bigrams(self):\n",
    "      return str([(x, i.split()[j + 1]) for i in [self.text]\n",
    "       for j, x in enumerate(i.split()) if j < len(i.split()) - 1])\n",
    "\n",
    "class Word : \n",
    "\n",
    "  def __init__(self, text, n):\n",
    "      self.text = text\n",
    "      self.n = n\n",
    "\n",
    "  def __str__(self):\n",
    "      self.text = str(self.text)\n",
    "\n",
    "  def get_word(self):\n",
    "      return self.text.split()[self.n]"
   ]
  },
  {
   "cell_type": "code",
   "execution_count": 4,
   "metadata": {
    "colab": {
     "base_uri": "https://localhost:8080/",
     "height": 35
    },
    "id": "KFyYf2nP7jAf",
    "outputId": "ff4fc374-6b86-4c09-ce2f-a3f5a2f1dade"
   },
   "outputs": [
    {
     "data": {
      "application/vnd.google.colaboratory.intrinsic+json": {
       "type": "string"
      },
      "text/plain": [
       "\"[('My', 'name'), ('name', 'is'), ('is', 'Brian')]\""
      ]
     },
     "execution_count": 4,
     "metadata": {},
     "output_type": "execute_result"
    }
   ],
   "source": [
    "Sentence('My name is Brian').get_next_bigrams()"
   ]
  },
  {
   "cell_type": "code",
   "execution_count": 5,
   "metadata": {
    "colab": {
     "base_uri": "https://localhost:8080/",
     "height": 35
    },
    "id": "i_LEWAMb7nb4",
    "outputId": "ec4ba619-e9a3-49f1-f8f7-2f038d28cf2d"
   },
   "outputs": [
    {
     "data": {
      "application/vnd.google.colaboratory.intrinsic+json": {
       "type": "string"
      },
      "text/plain": [
       "'is'"
      ]
     },
     "execution_count": 5,
     "metadata": {},
     "output_type": "execute_result"
    }
   ],
   "source": [
    "Word('My name is Brian', 2).get_word()"
   ]
  },
  {
   "cell_type": "markdown",
   "metadata": {
    "id": "vQQIndOwqzhp"
   },
   "source": [
    "## 6. Modules\n",
    "Finally one really important part of python is the ability to create modules.\n",
    "Read https://docs.python.org/fr/3/tutorial/modules.html and create a module named geo with the classes Rectangle & Patch.\n",
    "Import the ```geo``` module and demonstrate the different calls.\n",
    "\n",
    "Repeat the operation with an ```NLP``` module to encapsulate the classes Sentence and Word.\n",
    "In Natural Language Processing you'll use a lot of n-grams (which is the set of *n* sequential words). So you should implement a ```get_bigrams(sentence)``` method who will return a list of bigrams."
   ]
  },
  {
   "cell_type": "code",
   "execution_count": 14,
   "metadata": {
    "id": "qEzoAnDUpfRd",
    "outputId": "930ab3e0-9ba4-4198-803d-c19e0244d44d"
   },
   "outputs": [
    {
     "ename": "SyntaxError",
     "evalue": "invalid syntax (geo.py, line 7)",
     "output_type": "error",
     "traceback": [
      "Traceback \u001b[1;36m(most recent call last)\u001b[0m:\n",
      "  File \u001b[0;32m\"C:\\Users\\ryiad\\anaconda3\\lib\\site-packages\\IPython\\core\\interactiveshell.py\"\u001b[0m, line \u001b[0;32m3418\u001b[0m, in \u001b[0;35mrun_code\u001b[0m\n    exec(code_obj, self.user_global_ns, self.user_ns)\n",
      "\u001b[1;36m  File \u001b[1;32m\"<ipython-input-14-4971e42f423d>\"\u001b[1;36m, line \u001b[1;32m1\u001b[1;36m, in \u001b[1;35m<module>\u001b[1;36m\u001b[0m\n\u001b[1;33m    import geo\u001b[0m\n",
      "\u001b[1;36m  File \u001b[1;32m\"C:\\Users\\ryiad\\Downloads\\geo.py\"\u001b[1;36m, line \u001b[1;32m7\u001b[0m\n\u001b[1;33m    <!DOCTYPE html>\u001b[0m\n\u001b[1;37m    ^\u001b[0m\n\u001b[1;31mSyntaxError\u001b[0m\u001b[1;31m:\u001b[0m invalid syntax\n"
     ]
    }
   ],
   "source": [
    "import geo\n",
    "\n",
    "rectangle = geo.Rectangle( 5,2,0,0 )\n",
    "patch = geo.Patch( 5,2,0,0 )\n",
    "\n",
    "???"
   ]
  },
  {
   "cell_type": "code",
   "execution_count": 16,
   "metadata": {
    "id": "fnipmKKcpfRd"
   },
   "outputs": [
    {
     "ename": "ModuleNotFoundError",
     "evalue": "No module named 'module2'",
     "output_type": "error",
     "traceback": [
      "\u001b[1;31m---------------------------------------------------------------------------\u001b[0m",
      "\u001b[1;31mModuleNotFoundError\u001b[0m                       Traceback (most recent call last)",
      "\u001b[1;32m<ipython-input-16-3362c91e2cf6>\u001b[0m in \u001b[0;36m<module>\u001b[1;34m\u001b[0m\n\u001b[1;32m----> 1\u001b[1;33m \u001b[1;32mimport\u001b[0m \u001b[0mmodule2\u001b[0m\u001b[1;33m\u001b[0m\u001b[1;33m\u001b[0m\u001b[0m\n\u001b[0m\u001b[0;32m      2\u001b[0m \u001b[1;33m\u001b[0m\u001b[0m\n\u001b[0;32m      3\u001b[0m \u001b[0mtest_sentence\u001b[0m \u001b[1;33m=\u001b[0m \u001b[0mSentence\u001b[0m\u001b[1;33m(\u001b[0m\u001b[1;34m\"My name is Brian\"\u001b[0m\u001b[1;33m)\u001b[0m\u001b[1;33m\u001b[0m\u001b[1;33m\u001b[0m\u001b[0m\n\u001b[0;32m      4\u001b[0m \u001b[0mtest_sentence\u001b[0m\u001b[1;33m.\u001b[0m\u001b[0mget_next_bigrams\u001b[0m\u001b[1;33m(\u001b[0m\u001b[1;33m)\u001b[0m\u001b[1;33m\u001b[0m\u001b[1;33m\u001b[0m\u001b[0m\n",
      "\u001b[1;31mModuleNotFoundError\u001b[0m: No module named 'module2'"
     ]
    }
   ],
   "source": [
    "import module2\n",
    "\n",
    "test_sentence = Sentence(\"My name is Brian\")\n",
    "test_sentence.get_next_bigrams()"
   ]
  },
  {
   "cell_type": "markdown",
   "metadata": {
    "id": "EksW4nWhpfRd"
   },
   "source": [
    "## 7. Coding style\n",
    "\n",
    "You'll often ask yourself about which letters should be capital or if you should use _ or other characters.\n",
    "\n",
    "To help you decide, python comes with PEP-8 which is a set of recommandation.\n",
    "\n",
    "It is highly advised to read PEP-8 and to apply the rules whenever it's applicable.\n",
    "\n",
    "You'll get point for style in your code (I mean, you will lose points if the code is not readable).\n",
    "\n",
    "Fortunately, [the rules of PEP-8 are not perfect and should not always be followed](https://www.youtube.com/watch?v=wf-BqAjZb8M)."
   ]
  },
  {
   "cell_type": "code",
   "execution_count": null,
   "metadata": {
    "id": "c4l9KytZpfRe"
   },
   "outputs": [],
   "source": [
    "# You should create a github account before the next session :\n",
    "student_1_github_login = '/emirtarik'\n",
    "student_2_github_login = '/ryiadata'"
   ]
  },
  {
   "cell_type": "markdown",
   "metadata": {
    "id": "m5UTrCzjtRLF"
   },
   "source": [
    "Congratulations, you've reched the end of this notebook. =)"
   ]
  }
 ],
 "metadata": {
  "colab": {
   "collapsed_sections": [],
   "name": "Notebook 1.ipynb",
   "provenance": [],
   "toc_visible": true
  },
  "kernelspec": {
   "display_name": "Python 3",
   "language": "python",
   "name": "python3"
  },
  "language_info": {
   "codemirror_mode": {
    "name": "ipython",
    "version": 3
   },
   "file_extension": ".py",
   "mimetype": "text/x-python",
   "name": "python",
   "nbconvert_exporter": "python",
   "pygments_lexer": "ipython3",
   "version": "3.8.5"
  },
  "name": "1-python",
  "notebookId": 3047179637077656
 },
 "nbformat": 4,
 "nbformat_minor": 1
}
